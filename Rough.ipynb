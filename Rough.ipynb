{
 "cells": [
  {
   "cell_type": "code",
   "execution_count": 1,
   "metadata": {},
   "outputs": [
    {
     "name": "stdout",
     "output_type": "stream",
     "text": [
      "enter first number (under 10):\n",
      "6\n",
      "enter second number (under 10):\n",
      "4\n",
      "\n",
      "Addition: 6 + 4 = 10\n",
      "\n",
      "Subtraction: 6 - 4 = 2\n",
      "\n",
      "Multiplication: 6 x 4 = 24\n"
     ]
    }
   ],
   "source": [
    "print('enter first number (under 10):')\n",
    "a = int(input())\n",
    "print('enter second number (under 10):')\n",
    "b = int(input())\n",
    "print('')\n",
    "print('Addition: ' + str(a) +' + '+ str(b) +' = '+ str(a+b))\n",
    "print('')\n",
    "print('Subtraction: ' +str(a) +' - '+ str(b) +' = '+ str(a-b))\n",
    "print('')\n",
    "print('Multiplication: ' +str(a) +' x '+ str(b) +' = '+ str(a*b))"
   ]
  },
  {
   "cell_type": "code",
   "execution_count": 2,
   "metadata": {},
   "outputs": [
    {
     "name": "stdout",
     "output_type": "stream",
     "text": [
      "enter number (under 10):\n",
      "7\n",
      "\n",
      "7 x 1 = 7\n",
      "7 x 2 = 14\n",
      "7 x 3 = 21\n",
      "7 x 4 = 28\n",
      "7 x 5 = 35\n",
      "7 x 6 = 42\n",
      "7 x 7 = 49\n",
      "7 x 8 = 56\n",
      "7 x 9 = 63\n",
      "7 x 10 = 70\n"
     ]
    }
   ],
   "source": [
    "print('enter number (under 10):')\n",
    "n = int(input())\n",
    "print('')\n",
    "for i in range(10):\n",
    "    print(str(n)+' x '+str(i+1)+' = '+str((i+1)*n))"
   ]
  }
 ],
 "metadata": {
  "kernelspec": {
   "display_name": "Python 3",
   "language": "python",
   "name": "python3"
  },
  "language_info": {
   "codemirror_mode": {
    "name": "ipython",
    "version": 3
   },
   "file_extension": ".py",
   "mimetype": "text/x-python",
   "name": "python",
   "nbconvert_exporter": "python",
   "pygments_lexer": "ipython3",
   "version": "3.6.3"
  }
 },
 "nbformat": 4,
 "nbformat_minor": 2
}
